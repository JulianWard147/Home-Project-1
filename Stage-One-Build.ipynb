{
 "cells": [
  {
   "cell_type": "code",
   "execution_count": 7,
   "metadata": {},
   "outputs": [],
   "source": [
    "import numpy as np"
   ]
  },
  {
   "cell_type": "markdown",
   "metadata": {},
   "source": [
    "## Stage 1: Bomber Builder\n",
    "\n",
    "Goals:\n",
    "Practice Python\n",
    "    Specifically, arrays, numpy, and  objects/classes\n",
    "Build a bomber object that can be shot at, and then have armor added to it.\n",
    "\n",
    "Okay, in order to armor a bomber I need to shoot a bomber, in order to shoot a bomber I need to build it. What I'm imagining right now is a three dimensional array representing the three dimensional 'space' of the bomber. Each cell would represent either a part of the bomber, or the air around the bomber. Each part of the 'bomber' would have a value representing how well that part of the bomber responds to having holes put into it. \n",
    "\n",
    "Right now I can see two ways of modeling that. \n",
    "\n",
    "I can put an integer value into each cell, with higher values representing more ability to take a hit. Then a hit in this spot would iterate that number down. Once the value hits zero, the plane is down. Armor would be modeled as a layer of numbers put on top of the base array. Call this the Ablative Model.\n",
    "\n",
    "Another way to do this would be to assign each cell a value between 0 and 1, representing the probability that, given a cell is struck, will it cripple the plane. Armor in this model would be represented by a layer that increases the odds of survival for a cell, with as a flat modifier or some sort of multiplicative effect. Call this the Probabalistic Model. \n",
    "\n",
    "I want to build something that's flexible enough to take both options. Or even, could "
   ]
  },
  {
   "cell_type": "markdown",
   "metadata": {},
   "source": [
    "Right now I'm picturing a 3x25x25 (or 25x25x3) array. That's big enough to make a plane, small enough that I can picture it. Now, the math doesn't particularly care, but I'd find it easy to, at least at first, make a vaugely plane shaped plane. So wings, a cockpit, and a tail."
   ]
  },
  {
   "cell_type": "code",
   "execution_count": 10,
   "metadata": {},
   "outputs": [],
   "source": [
    "\n",
    "blankarray = np.empty((25,25,3)) "
   ]
  },
  {
   "cell_type": "code",
   "execution_count": 11,
   "metadata": {},
   "outputs": [
    {
     "data": {
      "text/plain": [
       "array([[[ 6.88809390e-312,  6.88810770e-312,  0.00000000e+000],\n",
       "        [-3.72477755e+065,  6.88996237e-312,  6.88996238e-312],\n",
       "        [ 5.95203902e-226,  0.00000000e+000,  0.00000000e+000],\n",
       "        ...,\n",
       "        [-1.00757526e+248,  6.88996435e-312,  6.88996435e-312],\n",
       "        [ 2.91451745e+131,  0.00000000e+000,  0.00000000e+000],\n",
       "        [ 2.91451745e+131,  6.88996432e-312,  6.88996449e-312]],\n",
       "\n",
       "       [[-1.08234902e-172,  6.88996429e-312,  6.88996429e-312],\n",
       "        [-3.93666710e+266,  0.00000000e+000,  0.00000000e+000],\n",
       "        [-3.93666710e+266,  6.88996436e-312,  6.88996450e-312],\n",
       "        ...,\n",
       "        [ 1.48375364e+031,  6.88996487e-312,  6.88996498e-312],\n",
       "        [ 1.10338708e+044,  6.88996438e-312,  6.88996477e-312],\n",
       "        [ 1.27972843e+297,  6.88796892e-312,  6.88812554e-312]],\n",
       "\n",
       "       [[ 0.00000000e+000,  0.00000000e+000,  0.00000000e+000],\n",
       "        [ 0.00000000e+000,  0.00000000e+000,  0.00000000e+000],\n",
       "        [ 0.00000000e+000,  0.00000000e+000,  0.00000000e+000],\n",
       "        ...,\n",
       "        [ 0.00000000e+000,  0.00000000e+000,  0.00000000e+000],\n",
       "        [ 0.00000000e+000,  0.00000000e+000,  0.00000000e+000],\n",
       "        [ 0.00000000e+000,  0.00000000e+000,  0.00000000e+000]],\n",
       "\n",
       "       ...,\n",
       "\n",
       "       [[ 0.00000000e+000,  0.00000000e+000,  0.00000000e+000],\n",
       "        [ 0.00000000e+000,  0.00000000e+000,  0.00000000e+000],\n",
       "        [ 0.00000000e+000,  0.00000000e+000,  0.00000000e+000],\n",
       "        ...,\n",
       "        [ 0.00000000e+000,  0.00000000e+000,  0.00000000e+000],\n",
       "        [ 0.00000000e+000,  0.00000000e+000,  0.00000000e+000],\n",
       "        [ 0.00000000e+000,  0.00000000e+000,  0.00000000e+000]],\n",
       "\n",
       "       [[ 0.00000000e+000,  0.00000000e+000,  0.00000000e+000],\n",
       "        [ 0.00000000e+000,  0.00000000e+000,  0.00000000e+000],\n",
       "        [ 0.00000000e+000,  0.00000000e+000,  0.00000000e+000],\n",
       "        ...,\n",
       "        [ 0.00000000e+000,  0.00000000e+000,  0.00000000e+000],\n",
       "        [ 0.00000000e+000,  0.00000000e+000,  0.00000000e+000],\n",
       "        [ 0.00000000e+000,  0.00000000e+000,  0.00000000e+000]],\n",
       "\n",
       "       [[ 0.00000000e+000,  0.00000000e+000,  0.00000000e+000],\n",
       "        [ 0.00000000e+000,  0.00000000e+000,  0.00000000e+000],\n",
       "        [ 0.00000000e+000,  0.00000000e+000,  0.00000000e+000],\n",
       "        ...,\n",
       "        [ 0.00000000e+000,  0.00000000e+000,  0.00000000e+000],\n",
       "        [ 0.00000000e+000,  0.00000000e+000,  0.00000000e+000],\n",
       "        [ 0.00000000e+000,  0.00000000e+000,  0.00000000e+000]]])"
      ]
     },
     "execution_count": 11,
     "metadata": {},
     "output_type": "execute_result"
    }
   ],
   "source": [
    "blankarray"
   ]
  },
  {
   "cell_type": "code",
   "execution_count": null,
   "metadata": {},
   "outputs": [],
   "source": [
    "\n",
    "\n",
    "\n",
    "\n",
    "# I 'pseudocoded' this on a piece of paper. It's a good thing I didn't go into visual arts.\n"
   ]
  }
 ],
 "metadata": {
  "kernelspec": {
   "display_name": "Python (learn-env)",
   "language": "python",
   "name": "learn-env"
  },
  "language_info": {
   "codemirror_mode": {
    "name": "ipython",
    "version": 3
   },
   "file_extension": ".py",
   "mimetype": "text/x-python",
   "name": "python",
   "nbconvert_exporter": "python",
   "pygments_lexer": "ipython3",
   "version": "3.8.5"
  }
 },
 "nbformat": 4,
 "nbformat_minor": 4
}
